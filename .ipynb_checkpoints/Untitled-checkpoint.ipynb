{
 "cells": [
  {
   "cell_type": "markdown",
   "id": "4ddd6abd",
   "metadata": {},
   "source": [
    "# CRISPR  Validation\n",
    "### CompBio coding Challange\n",
    "**Author:** SarahL.  \n",
    "**Date:** `July 03, 2024` \n",
    "\n",
    "---\n",
    "\n",
    "**Table of Contents:**\n",
    "- [Setup](##Setup)\n",
    "- [Functions](##Quality-Control)\n",
    "- [Analysis](##Filtering)\n",
    "- [Plotting](##Conclusion)"
   ]
  },
  {
   "cell_type": "markdown",
   "id": "e9ac6799",
   "metadata": {},
   "source": [
    "## Setup"
   ]
  },
  {
   "cell_type": "code",
   "execution_count": 1,
   "id": "718cc95d",
   "metadata": {},
   "outputs": [
    {
     "name": "stdout",
     "output_type": "stream",
     "text": [
      "Libraries imported successfully!\n"
     ]
    }
   ],
   "source": [
    "# Importing necessary libraries\n",
    "import numpy as np\n",
    "import seaborn as sns\n",
    "import os\n",
    "import re\n",
    "import pandas as pd\n",
    "\n",
    "\n",
    "# Display a message to confirm successful import\n",
    "print(\"Libraries imported successfully!\")"
   ]
  },
  {
   "cell_type": "code",
   "execution_count": 2,
   "id": "dd3cad5d",
   "metadata": {},
   "outputs": [],
   "source": [
    "# Setup Paths\n",
    "path = os.getcwd()\n",
    "\n",
    "# Define the input and output paths relative to the current directory\n",
    "input_path = os.path.join(path, 'src')\n",
    "output_path = os.path.join(path, 'output')\n",
    "os.makedirs(output_path, exist_ok=True)"
   ]
  },
  {
   "cell_type": "code",
   "execution_count": null,
   "id": "c573737b",
   "metadata": {},
   "outputs": [],
   "source": []
  },
  {
   "cell_type": "markdown",
   "id": "93d907f4",
   "metadata": {},
   "source": [
    "## Functions"
   ]
  },
  {
   "cell_type": "code",
   "execution_count": 20,
   "id": "ee433012",
   "metadata": {},
   "outputs": [],
   "source": [
    "def getReverseComplement(seq):\n",
    "    \"\"\"Takes a DNA sequence string and creates the reverse complement\"\"\"\n",
    "    complement = {'A': 'T', 'C': 'G', 'G': 'C', 'T': 'A'} # Bases with ambiguous nucleotide N stay N\n",
    "    reverse_complement = \"\".join(complement.get(base, base) for base in reversed(seq))\n",
    "    return reverse_complement\n",
    "\n",
    "def readFastq(file_path):\n",
    "    \"\"\"Reads FASTQ file and saves seq reverse-complements in list\"\"\"\n",
    "    sequences = []\n",
    "    with open(file_path) as fp:\n",
    "        while True:\n",
    "            fp.readline() # skip name line\n",
    "            seq = fp.readline().rstrip() # read base sequence\n",
    "            seq = getReverseComplement(seq) # transform to reverse complement\n",
    "            fp.readline() # skip placeholder line\n",
    "            fp.readline() # skip base quality line\n",
    "            if len(seq) == 0:\n",
    "                break\n",
    "            sequences.append(seq)\n",
    "    return sequences\n",
    "\n",
    "def findBarcode(seq,barcode):\n",
    "    \"\"\"Find barcode sequence within the first 20 nt of sequence\"\"\"\n",
    "    pattern = r'|'.join(re.escape(barcode) for barcode in barcodes.values())\n",
    "    match = re.search(pattern, seq[1:20]) #limit to only the first 2 nt\n",
    "    if match:\n",
    "        return seq[match.start()+1:match.end()+1]# return matched barcode\n",
    "    else:\n",
    "        return None\n",
    "\n",
    "def findTargetseq(seq):\n",
    "    \"\"\"Find target pattern in sequence and output target nucleotide and PAM\"\"\"\n",
    "    pattern = r\"CATACCT(.)TGGTTTCATCCG\"\n",
    "    match = re.search(pattern, seq)\n",
    "    if match:\n",
    "        target = match.group(1) # Get the target base\n",
    "        PAM = seq[match.end():match.end()+4] # Get the PAM sequence of 4nt at the end of the pattern\n",
    "        return target,PAM\n",
    "    else:\n",
    "        return None, None\n",
    "    \n",
    "def initialize_matrices():\n",
    "    \"\"\"Seperates list of sequences into dict according to dict of barcodes of replicas\"\"\"\n",
    "    letters = ['A', 'C', 'G', 'T']\n",
    "    combinations = [a + b for a in letters for b in letters]\n",
    "    matrix = pd.DataFrame(0, index=combinations, columns=combinations)\n",
    "    return matrix\n",
    "\n",
    "\n",
    "def getFreqMat(seq,barcodes):\n",
    "    \"\"\"Create and calculate frequency matrices\"\"\"\n",
    "    # Initialize the new dictionary with empty lists\n",
    "    matrices_A = {key: initialize_matrices() for key in barcodes}\n",
    "    matrices_G = {key: initialize_matrices() for key in barcodes}\n",
    "    \n",
    "    unmatched_barcode = []  # List to store barcode unmatched sequences\n",
    "    unmatched_target = [] # List to store targetsequence unmatched sequences\n",
    "    wrong_nt = [] # List to sequences with T or C nt at targetsite\n",
    "    \n",
    "    for sequence in seq:\n",
    "        if findBarcode(sequence,barcodes) == None:\n",
    "            unmatched_barcode.append(sequence)\n",
    "            continue\n",
    "        else: \n",
    "            key= next((k for k, v in barcodes.items() if v == findBarcode(sequence,barcodes)), None) # Get correspondiing replicate to barcode\n",
    "            target,PAM = findTargetseq(sequence)\n",
    "            if target== None or 'N' in PAM:\n",
    "                unmatched_target.append(sequence)\n",
    "                continue\n",
    "            #if target!='A'and target!='G': #could be T C or N\n",
    "                #wrong_nt.append(sequence)\n",
    "                #continue\n",
    "            if target !='G':\n",
    "                matrices_A[key].loc[PAM[2:], PAM[:2]] += 1\n",
    "                continue\n",
    "            if target =='G':\n",
    "                matrices_G[key].loc[PAM[2:], PAM[:2]] += 1\n",
    "                continue\n",
    "    matrices_freq = {key: initialize_matrices() for key in barcodes}\n",
    "    for key in barcodes.keys():\n",
    "        matrices_freq[key] =matrices_G[key] / (matrices_A[key] + matrices_G[key])\n",
    "        \n",
    "    return matrices_freq,matrices_A, matrices_G,unmatched_barcode,unmatched_target,wrong_nt\n",
    "\n",
    "\n",
    "def createHeatmap(seq,barcodes):\n",
    "    \n",
    "    return matrices_freq\n",
    "    "
   ]
  },
  {
   "cell_type": "code",
   "execution_count": 21,
   "id": "b16f8c94",
   "metadata": {},
   "outputs": [],
   "source": [
    "seq=readFastq(os.path.join(input_path, 'library.fastq'))\n",
    "barcodes = {\"replicate1\": \"GTCAGT\",\"replicate2\": \"TAGCCT\",\"replicate3\": \"CGGTAC\"}\n",
    "matrices_freq,matrices_A, matrices_G,unmatched_barcode,unmatched_target,wrong_nt=getFreqMat(seq,barcodes)"
   ]
  },
  {
   "cell_type": "code",
   "execution_count": 22,
   "id": "b55759e4",
   "metadata": {},
   "outputs": [
    {
     "data": {
      "text/plain": [
       "{'replicate1':       AA        AC        AG        AT        CA        CC        CG  \\\n",
       " AA  0.00  0.000000  0.142857  0.000000  0.030303  0.000000  0.000000   \n",
       " AC  0.00  0.000000  0.000000  0.000000  0.000000  0.000000  0.000000   \n",
       " AG  0.00  0.000000  0.000000  0.000000  0.000000  0.000000  0.000000   \n",
       " AT  0.00  0.000000  0.066667  0.000000  0.000000  0.000000  0.000000   \n",
       " CA  0.00  0.000000  0.000000  0.000000  0.023256  0.000000  0.000000   \n",
       " CC  0.00  0.000000  0.000000  0.000000  0.000000  0.000000  0.000000   \n",
       " CG  0.00  0.000000  0.000000  0.000000  0.000000  0.000000  0.000000   \n",
       " CT  0.00  0.000000  0.000000  0.000000  0.000000  0.000000  0.000000   \n",
       " GA  0.00  0.000000  0.000000  0.000000  0.040000  0.000000  0.055556   \n",
       " GC  0.05  0.000000  0.000000  0.000000  0.000000  0.000000  0.030303   \n",
       " GG  0.00  0.076923  0.000000  0.000000  0.000000  0.052632  0.000000   \n",
       " GT  0.00  0.000000  0.000000  0.000000  0.000000  0.000000  0.000000   \n",
       " TA  0.00  0.000000  0.000000  0.000000  0.000000  0.000000  0.000000   \n",
       " TC  0.00  0.000000  0.000000  0.000000  0.000000  0.000000  0.000000   \n",
       " TG  0.00  0.000000  0.000000  0.000000  0.000000  0.000000  0.000000   \n",
       " TT  0.00  0.033333  0.076923  0.058824  0.000000  0.000000  0.000000   \n",
       " \n",
       "           CT   GA        GC        GG   GT        TA        TC        TG   TT  \n",
       " AA  0.000000  0.0  0.000000  0.090909  0.0  0.000000  0.000000  0.000000  0.0  \n",
       " AC  0.000000  0.0  0.000000  0.000000  0.0  0.000000  0.000000  0.000000  0.0  \n",
       " AG  0.000000  0.0  0.000000  0.000000  0.0  0.000000  0.000000  0.500000  0.0  \n",
       " AT  0.000000  0.0  0.000000  0.000000  0.0  0.000000  0.000000  0.000000  0.0  \n",
       " CA  0.000000  0.0  0.000000  0.000000  0.0  0.000000  0.000000  0.000000  0.0  \n",
       " CC  0.019608  0.0  0.033333  0.000000  0.0  0.000000  0.020408  0.000000  0.0  \n",
       " CG  0.000000  0.0  0.000000  0.000000  0.0  0.000000  0.000000  0.000000  0.0  \n",
       " CT  0.000000  0.0  0.000000  0.000000  0.0  0.000000  0.000000  0.000000  0.0  \n",
       " GA  0.000000  0.0  0.000000  0.000000  0.0  0.000000  0.000000  0.200000  0.0  \n",
       " GC  0.000000  0.0  0.000000  0.000000  0.0  0.000000  0.000000  0.000000  0.0  \n",
       " GG  0.000000  0.0  0.000000  0.250000  0.5  0.111111  0.000000  0.000000  0.0  \n",
       " GT  0.000000  0.0  0.000000  0.000000  0.0  0.195122  0.000000  0.000000  0.0  \n",
       " TA  0.000000  0.0  0.000000  0.000000  0.0  0.000000  0.000000  0.000000  0.0  \n",
       " TC  0.000000  0.0  0.000000  0.000000  0.0  0.000000  0.000000  0.071429  0.0  \n",
       " TG  0.000000  0.0  0.000000  0.000000  0.0  0.000000  0.000000  0.000000  0.0  \n",
       " TT  0.000000  0.0  0.000000  0.000000  0.0  0.000000  0.000000  0.000000  0.0  ,\n",
       " 'replicate2':           AA        AC   AG    AT      CA        CC        CG        CT   GA  \\\n",
       " AA  0.000000  0.000000  0.0  0.00  0.0000  0.000000  0.000000  0.000000  0.0   \n",
       " AC  0.000000  0.000000  0.0  0.00  0.0000  0.017857  0.000000  0.000000  0.0   \n",
       " AG  0.000000  0.000000  0.0  0.00  0.0625  0.000000  0.000000  0.000000  0.0   \n",
       " AT  0.000000  0.000000  0.0  0.00  0.0000  0.000000  0.000000  0.000000  0.0   \n",
       " CA  0.000000  0.026316  0.0  0.00  0.0000  0.000000  0.000000  0.000000  0.0   \n",
       " CC  0.000000  0.000000  0.0  0.00  0.0000  0.000000  0.000000  0.000000  0.0   \n",
       " CG  0.000000  0.000000  0.0  0.00  0.0000  0.000000  0.023256  0.000000  0.0   \n",
       " CT  0.000000  0.000000  0.0  0.00  0.0000  0.000000  0.000000  0.000000  0.0   \n",
       " GA  0.000000  0.000000  0.0  0.00  0.0000  0.000000  0.052632  0.000000  0.0   \n",
       " GC  0.000000  0.000000  0.0  0.05  0.0000  0.000000  0.000000  0.034483  0.0   \n",
       " GG  0.000000  0.000000  0.0  0.00  0.0000  0.000000  0.000000  0.000000  0.0   \n",
       " GT  0.000000  0.000000  0.0  0.00  0.0000  0.000000  0.000000  0.000000  0.0   \n",
       " TA  0.000000  0.000000  0.0  0.00  0.0000  0.000000  0.000000  0.000000  0.0   \n",
       " TC  0.000000  0.000000  0.0  0.00  0.0000  0.000000  0.000000  0.000000  0.0   \n",
       " TG  0.000000  0.000000  0.0  0.00  0.0000  0.000000  0.000000  0.000000  0.0   \n",
       " TT  0.083333  0.000000  0.0  0.00  0.0000  0.000000  0.000000  0.000000  0.0   \n",
       " \n",
       "      GC        GG   GT        TA   TC   TG   TT  \n",
       " AA  0.0  0.000000  0.0  0.000000  0.0  0.0  0.0  \n",
       " AC  0.0  0.000000  0.0  0.000000  0.0  0.0  0.0  \n",
       " AG  0.0  0.000000  0.0  0.000000  0.0  0.0  0.0  \n",
       " AT  0.0  0.000000  0.0  0.000000  0.0  0.0  0.0  \n",
       " CA  0.0  0.000000  0.0  0.000000  0.0  0.0  0.0  \n",
       " CC  0.0  0.000000  0.0  0.000000  0.0  0.0  0.0  \n",
       " CG  0.0  0.000000  0.0  0.000000  0.0  0.0  0.0  \n",
       " CT  0.0  0.000000  0.0  0.000000  0.0  0.0  0.0  \n",
       " GA  0.0  0.000000  0.5  0.000000  0.0  0.0  0.0  \n",
       " GC  0.0  0.100000  0.0  0.000000  0.0  0.0  0.0  \n",
       " GG  0.0  0.000000  0.0  0.000000  0.0  0.0  0.0  \n",
       " GT  0.0  0.000000  0.0  0.078947  0.0  0.0  0.0  \n",
       " TA  0.0  0.142857  0.0  0.000000  0.0  0.0  0.0  \n",
       " TC  0.0  0.000000  0.0  0.000000  0.0  0.1  0.0  \n",
       " TG  0.0  0.400000  0.0  0.000000  0.0  0.0  0.0  \n",
       " TT  0.0  0.000000  0.0  0.000000  0.0  0.0  0.0  ,\n",
       " 'replicate3':           AA       AC        AG        AT        CA        CC        CG  \\\n",
       " AA  0.000000  0.00000  0.000000  0.047619  0.000000  0.028571  0.000000   \n",
       " AC  0.000000  0.00000  0.000000  0.000000  0.000000  0.000000  0.061224   \n",
       " AG  0.000000  0.00000  0.083333  0.000000  0.000000  0.000000  0.000000   \n",
       " AT  0.000000  0.00000  0.058824  0.000000  0.000000  0.000000  0.000000   \n",
       " CA  0.000000  0.00000  0.000000  0.000000  0.000000  0.000000  0.000000   \n",
       " CC  0.000000  0.00000  0.000000  0.000000  0.000000  0.000000  0.000000   \n",
       " CG  0.038462  0.00000  0.000000  0.000000  0.000000  0.000000  0.000000   \n",
       " CT  0.000000  0.00000  0.000000  0.000000  0.022222  0.000000  0.000000   \n",
       " GA  0.000000  0.00000  0.000000  0.000000  0.000000  0.000000  0.000000   \n",
       " GC  0.000000  0.00000  0.000000  0.000000  0.038462  0.000000  0.041667   \n",
       " GG  0.083333  0.00000  0.000000  0.000000  0.062500  0.000000  0.000000   \n",
       " GT  0.000000  0.00000  0.000000  0.000000  0.000000  0.000000  0.055556   \n",
       " TA  0.000000  0.00000  0.000000  0.000000  0.000000  0.000000  0.000000   \n",
       " TC  0.000000  0.03125  0.000000  0.000000  0.000000  0.000000  0.000000   \n",
       " TG  0.000000  0.00000  0.000000  0.000000  0.000000  0.000000  0.000000   \n",
       " TT  0.045455  0.00000  0.000000  0.045455  0.027027  0.000000  0.000000   \n",
       " \n",
       "           CT        GA   GC        GG    GT        TA   TC        TG        TT  \n",
       " AA  0.000000  0.000000  0.0  0.000000  0.00  0.000000  0.0  0.000000  0.000000  \n",
       " AC  0.000000  0.000000  0.0  0.000000  0.00  0.000000  0.0  0.000000  0.000000  \n",
       " AG  0.000000  0.000000  0.0  0.000000  0.00  0.000000  0.0  0.000000  0.055556  \n",
       " AT  0.000000  0.000000  0.0  0.000000  0.00  0.000000  0.0  0.000000  0.000000  \n",
       " CA  0.000000  0.000000  0.0  0.000000  0.00  0.000000  0.0  0.000000  0.000000  \n",
       " CC  0.013158  0.038462  0.0  0.000000  0.00  0.031250  0.0  0.025000  0.000000  \n",
       " CG  0.000000  0.000000  0.0  0.000000  0.00  0.000000  0.0  0.000000  0.000000  \n",
       " CT  0.000000  0.000000  0.0  0.000000  0.00  0.000000  0.0  0.000000  0.000000  \n",
       " GA  0.000000  0.066667  0.0  0.000000  0.00  0.000000  0.0  0.000000  0.071429  \n",
       " GC  0.000000  0.142857  0.0  0.000000  0.00  0.000000  0.0  0.000000  0.000000  \n",
       " GG  0.000000  0.000000  0.1  0.333333  0.00  0.000000  0.0  0.166667  0.000000  \n",
       " GT  0.000000  0.000000  0.0  0.000000  0.00  0.128571  0.0  0.000000  0.000000  \n",
       " TA  0.000000  0.055556  0.0  0.000000  0.25  0.000000  0.0  0.000000  0.000000  \n",
       " TC  0.000000  0.000000  0.0  0.000000  0.00  0.000000  0.0  0.000000  0.000000  \n",
       " TG  0.000000  0.000000  0.0  0.000000  0.00  0.000000  0.0  0.000000  0.000000  \n",
       " TT  0.000000  0.000000  0.0  0.000000  0.00  0.000000  0.0  0.000000  0.000000  }"
      ]
     },
     "execution_count": 22,
     "metadata": {},
     "output_type": "execute_result"
    }
   ],
   "source": [
    "matrices_freq"
   ]
  },
  {
   "cell_type": "code",
   "execution_count": 58,
   "id": "45b0ed27",
   "metadata": {
    "scrolled": true
   },
   "outputs": [],
   "source": [
    "def hamming_distance(str1, str2):\n",
    "    \"\"\"Calculate the Hamming distance between two strings.\"\"\"\n",
    "    return sum(c1 != c2 for c1, c2 in zip(str1, str2))"
   ]
  },
  {
   "cell_type": "code",
   "execution_count": 429,
   "id": "e5c92908",
   "metadata": {},
   "outputs": [
    {
     "data": {
      "text/plain": [
       "'CD'"
      ]
     },
     "execution_count": 429,
     "metadata": {},
     "output_type": "execute_result"
    }
   ],
   "source": [
    "r\"CATACCT(.)TGGTTTCATCCG\""
   ]
  },
  {
   "cell_type": "code",
   "execution_count": 23,
   "id": "59a5da64",
   "metadata": {},
   "outputs": [
    {
     "data": {
      "text/plain": [
       "<Axes: >"
      ]
     },
     "execution_count": 23,
     "metadata": {},
     "output_type": "execute_result"
    },
    {
     "data": {
      "image/png": "[encoded data removed]",
      "text/plain": [
       "<Figure size 640x480 with 2 Axes>"
      ]
     },
     "metadata": {},
     "output_type": "display_data"
    }
   ],
   "source": [
    "sns.heatmap(matrices_freq[\"replicate2\"], cmap='YlGnBu', annot=True)"
   ]
  },
  {
   "cell_type": "code",
   "execution_count": null,
   "id": "3edf4edc",
   "metadata": {},
   "outputs": [],
   "source": [
    "# save plot as png\n",
    "plt.savefig(os.path.join(input_path, 'example_plot.png'))\n",
    "\n",
    "# display the plot\n",
    "plt.show()"
   ]
  }
 ],
 "metadata": {
  "kernelspec": {
   "display_name": "Python 3 (ipykernel)",
   "language": "python",
   "name": "python3"
  },
  "language_info": {
   "codemirror_mode": {
    "name": "ipython",
    "version": 3
   },
   "file_extension": ".py",
   "mimetype": "text/x-python",
   "name": "python",
   "nbconvert_exporter": "python",
   "pygments_lexer": "ipython3",
   "version": "3.11.5"
  }
 },
 "nbformat": 4,
 "nbformat_minor": 5
}
